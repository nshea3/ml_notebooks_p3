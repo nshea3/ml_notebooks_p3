{
 "cells": [
  {
   "cell_type": "markdown",
   "metadata": {},
   "source": [
    "# NN from Assignment 1"
   ]
  },
  {
   "cell_type": "code",
   "execution_count": 9,
   "metadata": {},
   "outputs": [],
   "source": [
    "import matplotlib.pyplot as plt\n",
    "import numpy as np\n",
    "import math\n",
    "import pandas as pd\n",
    "import matplotlib.pyplot as plt\n",
    "import sklearn\n",
    "\n",
    "from sklearn.neural_network import MLPClassifier\n",
    "\n",
    "from sklearn.preprocessing import RobustScaler\n",
    "\n",
    "from sklearn.metrics import classification_report\n",
    "\n",
    "from sklearn.model_selection import train_test_split\n",
    "\n",
    "%matplotlib inline\n",
    "\n",
    "plt.style.use('seaborn')\n",
    "\n",
    "import warnings\n",
    "warnings.filterwarnings('ignore')\n",
    "\n",
    "path = \"training_data.csv\"\n",
    "\n",
    "data = pd.read_csv(path)\n",
    "data = data.sample(frac=1)\n",
    "\n",
    "target = 'Facies'\n",
    "features = [feature for feature in list(data.head(0)) if feature not in (\"Well Name\", \"Formation\", \"Facies\")]\n",
    "\n",
    "X = data[features]\n",
    "\n",
    "scaler = RobustScaler()\n",
    "scaler.fit(X)\n",
    "X = scaler.transform(X)\n",
    "\n",
    "\n",
    "y = data[target]\n",
    "\n",
    "X_train, X_test, y_train, y_test = train_test_split(X, y, test_size=0.2)\n",
    "\n",
    "train_sizes = list(range(295,2065,295))\n",
    "\n",
    "assign1_nn = MLPClassifier(activation='relu', alpha=0.01, batch_size='auto', beta_1=0.9,\n",
    "       beta_2=0.999, early_stopping=False, epsilon=1e-08,\n",
    "       hidden_layer_sizes=80, learning_rate='constant',\n",
    "       learning_rate_init=0.001, max_iter=500, momentum=0.9,\n",
    "       nesterovs_momentum=True, power_t=0.5, random_state=1, shuffle=True,\n",
    "       solver='adam', tol=0.0001, validation_fraction=0.1, verbose=False,\n",
    "       warm_start=False)"
   ]
  },
  {
   "cell_type": "markdown",
   "metadata": {},
   "source": [
    "# Training and testing on original data"
   ]
  },
  {
   "cell_type": "code",
   "execution_count": 13,
   "metadata": {},
   "outputs": [
    {
     "name": "stdout",
     "output_type": "stream",
     "text": [
      "             precision    recall  f1-score   support\n",
      "\n",
      "          1       0.80      0.59      0.68        63\n",
      "          2       0.66      0.82      0.73       142\n",
      "          3       0.81      0.69      0.74       133\n",
      "          4       0.69      0.74      0.71        42\n",
      "          5       0.60      0.64      0.62        33\n",
      "          6       0.67      0.54      0.60        90\n",
      "          7       0.68      0.83      0.75        18\n",
      "          8       0.63      0.71      0.67        97\n",
      "          9       0.92      0.79      0.85        29\n",
      "\n",
      "avg / total       0.71      0.70      0.70       647\n",
      "\n",
      "0.7001545595054096\n",
      "0.7056830367182881\n"
     ]
    }
   ],
   "source": [
    "assign1_nn.fit(X_train,y_train)\n",
    "\n",
    "y_pred = assign1_nn.predict(X_test)\n",
    "print(classification_report(y_test,y_pred))\n",
    "\n",
    "print(sklearn.metrics.accuracy_score(y_test, y_pred))\n",
    "print(sklearn.metrics.f1_score(y_test, y_pred, average='macro'))"
   ]
  },
  {
   "cell_type": "markdown",
   "metadata": {},
   "source": [
    "# Training and testing after dimensionality reduction"
   ]
  },
  {
   "cell_type": "markdown",
   "metadata": {},
   "source": [
    "## PCA"
   ]
  },
  {
   "cell_type": "code",
   "execution_count": 22,
   "metadata": {},
   "outputs": [
    {
     "name": "stdout",
     "output_type": "stream",
     "text": [
      "             precision    recall  f1-score   support\n",
      "\n",
      "          1       0.70      0.51      0.59        63\n",
      "          2       0.48      0.71      0.57       142\n",
      "          3       0.67      0.55      0.60       133\n",
      "          4       0.30      0.24      0.27        42\n",
      "          5       0.45      0.30      0.36        33\n",
      "          6       0.54      0.50      0.52        90\n",
      "          7       0.62      0.56      0.59        18\n",
      "          8       0.63      0.64      0.63        97\n",
      "          9       0.96      0.90      0.93        29\n",
      "\n",
      "avg / total       0.58      0.57      0.57       647\n",
      "\n",
      "0.5703245749613601\n",
      "0.5621893224770671\n"
     ]
    }
   ],
   "source": [
    "from sklearn.decomposition import PCA\n",
    "\n",
    "pca4 = PCA(n_components=4)\n",
    "pca4_transformed = pca4.fit_transform(X_train)\n",
    "pca4_transformed_test = pca4.transform(X_test)\n",
    "\n",
    "assign1_nn.fit(pca4_transformed,y_train)\n",
    "\n",
    "y_pred = assign1_nn.predict(pca4_transformed_test)\n",
    "\n",
    "print(classification_report(y_test,y_pred))\n",
    "\n",
    "print(sklearn.metrics.accuracy_score(y_test, y_pred))\n",
    "print(sklearn.metrics.f1_score(y_test, y_pred, average='macro'))"
   ]
  },
  {
   "cell_type": "markdown",
   "metadata": {},
   "source": [
    "## ICA"
   ]
  },
  {
   "cell_type": "code",
   "execution_count": null,
   "metadata": {},
   "outputs": [],
   "source": []
  },
  {
   "cell_type": "markdown",
   "metadata": {},
   "source": [
    "## Randomized Projections"
   ]
  },
  {
   "cell_type": "code",
   "execution_count": null,
   "metadata": {},
   "outputs": [],
   "source": []
  },
  {
   "cell_type": "markdown",
   "metadata": {},
   "source": [
    "## LDA"
   ]
  },
  {
   "cell_type": "code",
   "execution_count": null,
   "metadata": {},
   "outputs": [],
   "source": []
  },
  {
   "cell_type": "markdown",
   "metadata": {},
   "source": [
    "# Training and testing after dimensionality reduction and clustering"
   ]
  },
  {
   "cell_type": "markdown",
   "metadata": {},
   "source": [
    "## PCA and k Means and EM"
   ]
  },
  {
   "cell_type": "code",
   "execution_count": null,
   "metadata": {},
   "outputs": [],
   "source": []
  },
  {
   "cell_type": "markdown",
   "metadata": {},
   "source": [
    "## ICA and k Means and EM"
   ]
  },
  {
   "cell_type": "code",
   "execution_count": null,
   "metadata": {},
   "outputs": [],
   "source": []
  },
  {
   "cell_type": "markdown",
   "metadata": {},
   "source": [
    "## Randomized Projections and k Means and EM"
   ]
  },
  {
   "cell_type": "code",
   "execution_count": null,
   "metadata": {},
   "outputs": [],
   "source": []
  },
  {
   "cell_type": "markdown",
   "metadata": {},
   "source": [
    "## LDA and k Means and EM"
   ]
  },
  {
   "cell_type": "code",
   "execution_count": null,
   "metadata": {},
   "outputs": [],
   "source": []
  }
 ],
 "metadata": {
  "kernelspec": {
   "display_name": "Python 3",
   "language": "python",
   "name": "python3"
  },
  "language_info": {
   "codemirror_mode": {
    "name": "ipython",
    "version": 3
   },
   "file_extension": ".py",
   "mimetype": "text/x-python",
   "name": "python",
   "nbconvert_exporter": "python",
   "pygments_lexer": "ipython3",
   "version": "3.6.3"
  }
 },
 "nbformat": 4,
 "nbformat_minor": 2
}
