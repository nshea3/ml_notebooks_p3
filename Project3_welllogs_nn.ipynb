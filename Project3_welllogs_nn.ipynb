{
 "cells": [
  {
   "cell_type": "markdown",
   "metadata": {},
   "source": [
    "# NN from Assignment 1"
   ]
  },
  {
   "cell_type": "code",
   "execution_count": 1,
   "metadata": {},
   "outputs": [],
   "source": [
    "import matplotlib.pyplot as plt\n",
    "import numpy as np\n",
    "import math\n",
    "import pandas as pd\n",
    "import matplotlib.pyplot as plt\n",
    "import sklearn\n",
    "\n",
    "from sklearn.neural_network import MLPClassifier\n",
    "\n",
    "from sklearn.preprocessing import RobustScaler\n",
    "\n",
    "from sklearn.metrics import classification_report\n",
    "\n",
    "from sklearn.model_selection import train_test_split\n",
    "\n",
    "%matplotlib inline\n",
    "\n",
    "plt.style.use('seaborn')\n",
    "\n",
    "import warnings\n",
    "warnings.filterwarnings('ignore')\n",
    "\n",
    "path = \"training_data.csv\"\n",
    "\n",
    "data = pd.read_csv(path)\n",
    "data = data.sample(frac=1)\n",
    "\n",
    "target = 'Facies'\n",
    "features = [feature for feature in list(data.head(0)) if feature not in (\"Well Name\", \"Formation\", \"Facies\")]\n",
    "\n",
    "X = data[features]\n",
    "\n",
    "scaler = RobustScaler()\n",
    "scaler.fit(X)\n",
    "X = scaler.transform(X)\n",
    "\n",
    "\n",
    "y = data[target]\n",
    "\n",
    "X_train, X_test, y_train, y_test = train_test_split(X, y, test_size=0.2)\n",
    "\n",
    "train_sizes = list(range(295,2065,295))\n",
    "\n",
    "assign1_nn = MLPClassifier(activation='relu', alpha=0.01, batch_size='auto', beta_1=0.9,\n",
    "       beta_2=0.999, early_stopping=False, epsilon=1e-08,\n",
    "       hidden_layer_sizes=80, learning_rate='constant',\n",
    "       learning_rate_init=0.001, max_iter=500, momentum=0.9,\n",
    "       nesterovs_momentum=True, power_t=0.5, random_state=1, shuffle=True,\n",
    "       solver='adam', tol=0.0001, validation_fraction=0.1, verbose=False,\n",
    "       warm_start=False)"
   ]
  },
  {
   "cell_type": "markdown",
   "metadata": {},
   "source": [
    "# Training and testing on original data"
   ]
  },
  {
   "cell_type": "code",
   "execution_count": 2,
   "metadata": {},
   "outputs": [
    {
     "name": "stdout",
     "output_type": "stream",
     "text": [
      "              precision    recall  f1-score   support\n",
      "\n",
      "           1       0.72      0.60      0.66        48\n",
      "           2       0.77      0.78      0.78       153\n",
      "           3       0.74      0.85      0.79       114\n",
      "           4       0.69      0.64      0.67        42\n",
      "           5       0.69      0.49      0.57        45\n",
      "           6       0.63      0.74      0.68        86\n",
      "           7       0.72      0.62      0.67        21\n",
      "           8       0.74      0.65      0.69       106\n",
      "           9       0.76      0.88      0.81        32\n",
      "\n",
      "   micro avg       0.72      0.72      0.72       647\n",
      "   macro avg       0.72      0.70      0.70       647\n",
      "weighted avg       0.73      0.72      0.72       647\n",
      "\n",
      "0.7248840803709428\n",
      "0.7023136590199139\n"
     ]
    }
   ],
   "source": [
    "assign1_nn.fit(X_train,y_train)\n",
    "\n",
    "y_pred = assign1_nn.predict(X_test)\n",
    "print(classification_report(y_test,y_pred))\n",
    "\n",
    "print(sklearn.metrics.accuracy_score(y_test, y_pred))\n",
    "print(sklearn.metrics.f1_score(y_test, y_pred, average='macro'))"
   ]
  },
  {
   "cell_type": "markdown",
   "metadata": {},
   "source": [
    "# Training and testing after dimensionality reduction"
   ]
  },
  {
   "cell_type": "markdown",
   "metadata": {},
   "source": [
    "## PCA"
   ]
  },
  {
   "cell_type": "code",
   "execution_count": 3,
   "metadata": {},
   "outputs": [
    {
     "name": "stdout",
     "output_type": "stream",
     "text": [
      "              precision    recall  f1-score   support\n",
      "\n",
      "           1       0.64      0.48      0.55        48\n",
      "           2       0.55      0.71      0.62       153\n",
      "           3       0.59      0.65      0.62       114\n",
      "           4       0.52      0.31      0.39        42\n",
      "           5       0.67      0.18      0.28        45\n",
      "           6       0.47      0.70      0.56        86\n",
      "           7       0.50      0.38      0.43        21\n",
      "           8       0.64      0.44      0.53       106\n",
      "           9       0.74      0.88      0.80        32\n",
      "\n",
      "   micro avg       0.57      0.57      0.57       647\n",
      "   macro avg       0.59      0.52      0.53       647\n",
      "weighted avg       0.58      0.57      0.56       647\n",
      "\n",
      "0.5703245749613601\n",
      "0.5308077110579659\n"
     ]
    }
   ],
   "source": [
    "from sklearn.decomposition import PCA\n",
    "\n",
    "pca4 = PCA(n_components=4)\n",
    "pca4_transformed = pca4.fit_transform(X_train)\n",
    "pca4_transformed_test = pca4.transform(X_test)\n",
    "\n",
    "assign1_nn.fit(pca4_transformed,y_train)\n",
    "\n",
    "y_pred = assign1_nn.predict(pca4_transformed_test)\n",
    "\n",
    "print(classification_report(y_test,y_pred))\n",
    "\n",
    "print(sklearn.metrics.accuracy_score(y_test, y_pred))\n",
    "print(sklearn.metrics.f1_score(y_test, y_pred, average='macro'))"
   ]
  },
  {
   "cell_type": "markdown",
   "metadata": {},
   "source": [
    "## ICA"
   ]
  },
  {
   "cell_type": "code",
   "execution_count": 4,
   "metadata": {},
   "outputs": [
    {
     "name": "stdout",
     "output_type": "stream",
     "text": [
      "              precision    recall  f1-score   support\n",
      "\n",
      "           1       0.46      0.27      0.34        48\n",
      "           2       0.48      0.78      0.59       153\n",
      "           3       0.55      0.44      0.49       114\n",
      "           4       0.53      0.24      0.33        42\n",
      "           5       0.00      0.00      0.00        45\n",
      "           6       0.44      0.69      0.54        86\n",
      "           7       1.00      0.05      0.09        21\n",
      "           8       0.48      0.55      0.51       106\n",
      "           9       0.00      0.00      0.00        32\n",
      "\n",
      "   micro avg       0.48      0.48      0.48       647\n",
      "   macro avg       0.44      0.33      0.32       647\n",
      "weighted avg       0.45      0.48      0.43       647\n",
      "\n",
      "0.47913446676970634\n",
      "0.3207603910433833\n"
     ]
    }
   ],
   "source": [
    "from sklearn.decomposition import FastICA\n",
    "\n",
    "ica3 = FastICA(n_components=3)\n",
    "ica3_transformed = ica3.fit_transform(X_train)\n",
    "ica3_transformed_test = ica3.transform(X_test)\n",
    "\n",
    "assign1_nn.fit(ica3_transformed,y_train)\n",
    "\n",
    "y_pred = assign1_nn.predict(ica3_transformed_test)\n",
    "\n",
    "\n",
    "print(classification_report(y_test,y_pred))\n",
    "\n",
    "print(sklearn.metrics.accuracy_score(y_test, y_pred))\n",
    "print(sklearn.metrics.f1_score(y_test, y_pred, average='macro'))"
   ]
  },
  {
   "cell_type": "markdown",
   "metadata": {},
   "source": [
    "## Randomized Projections"
   ]
  },
  {
   "cell_type": "code",
   "execution_count": 14,
   "metadata": {},
   "outputs": [
    {
     "name": "stdout",
     "output_type": "stream",
     "text": [
      "              precision    recall  f1-score   support\n",
      "\n",
      "           1       0.64      0.60      0.62        48\n",
      "           2       0.70      0.77      0.73       153\n",
      "           3       0.70      0.71      0.71       114\n",
      "           4       0.64      0.71      0.67        42\n",
      "           5       0.58      0.31      0.41        45\n",
      "           6       0.61      0.73      0.66        86\n",
      "           7       0.55      0.57      0.56        21\n",
      "           8       0.66      0.56      0.61       106\n",
      "           9       0.81      0.81      0.81        32\n",
      "\n",
      "   micro avg       0.67      0.67      0.67       647\n",
      "   macro avg       0.66      0.64      0.64       647\n",
      "weighted avg       0.67      0.67      0.66       647\n",
      "\n",
      "0.6676970633693973\n",
      "0.6425420876657485\n"
     ]
    }
   ],
   "source": [
    "#Reconstruction error (try this for LDA as well?)\n",
    "\n",
    "\"\"\"\n",
    "transformer = random_projection.GaussianRandomProjection(n_components = 20, eps =.2)\n",
    "\n",
    "X_reduced = transformer.fit_transform(X)\n",
    "\n",
    "randMat = transformer.components_\n",
    "\n",
    "X_Proj = X_reduced.dot(randMat)\n",
    "\"\"\"\n",
    "\n",
    "from sklearn.random_projection import GaussianRandomProjection\n",
    "\n",
    "grp = GaussianRandomProjection(n_components = 5)\n",
    "\n",
    "grp_transformed = grp.fit_transform(X_train)\n",
    "\n",
    "assign1_nn.fit(grp_transformed,y_train)\n",
    "\n",
    "grp_transformed_test = grp.transform(X_test)\n",
    "\n",
    "y_pred = assign1_nn.predict(grp_transformed_test)\n",
    "\n",
    "\n",
    "print(classification_report(y_test,y_pred))\n",
    "\n",
    "print(sklearn.metrics.accuracy_score(y_test, y_pred))\n",
    "print(sklearn.metrics.f1_score(y_test, y_pred, average='macro'))"
   ]
  },
  {
   "cell_type": "markdown",
   "metadata": {},
   "source": [
    "## LDA"
   ]
  },
  {
   "cell_type": "code",
   "execution_count": 13,
   "metadata": {},
   "outputs": [
    {
     "name": "stdout",
     "output_type": "stream",
     "text": [
      "              precision    recall  f1-score   support\n",
      "\n",
      "           1       0.00      0.00      0.00        48\n",
      "           2       0.47      0.98      0.64       153\n",
      "           3       0.67      0.02      0.03       114\n",
      "           4       0.30      0.33      0.31        42\n",
      "           5       0.00      0.00      0.00        45\n",
      "           6       0.31      0.47      0.37        86\n",
      "           7       0.00      0.00      0.00        21\n",
      "           8       0.43      0.58      0.50       106\n",
      "           9       0.71      0.16      0.26        32\n",
      "\n",
      "   micro avg       0.42      0.42      0.42       647\n",
      "   macro avg       0.32      0.28      0.23       647\n",
      "weighted avg       0.40      0.42      0.32       647\n",
      "\n",
      "0.42194744976816073\n",
      "0.23461327145854766\n"
     ]
    }
   ],
   "source": [
    "from sklearn.discriminant_analysis import LinearDiscriminantAnalysis\n",
    "\n",
    "lda = LinearDiscriminantAnalysis(n_components=1)\n",
    "\n",
    "lda_transformed = lda.fit_transform(X_train, y_train)\n",
    "\n",
    "lda_transformed_test = lda.transform(X_test)\n",
    "\n",
    "assign1_nn.fit(lda_transformed,y_train)\n",
    "\n",
    "y_pred = assign1_nn.predict(lda_transformed_test)\n",
    "\n",
    "\n",
    "print(classification_report(y_test,y_pred))\n",
    "\n",
    "print(sklearn.metrics.accuracy_score(y_test, y_pred))\n",
    "print(sklearn.metrics.f1_score(y_test, y_pred, average='macro'))"
   ]
  },
  {
   "cell_type": "markdown",
   "metadata": {},
   "source": [
    "# Training and testing after dimensionality reduction and clustering"
   ]
  },
  {
   "cell_type": "markdown",
   "metadata": {},
   "source": [
    "## PCA and k Means and EM"
   ]
  },
  {
   "cell_type": "code",
   "execution_count": null,
   "metadata": {},
   "outputs": [],
   "source": [
    "kmeans = KMeans(n_clusters=4, random_state=0, n_init = 10)\n",
    "kmeans.fit(X_test)"
   ]
  },
  {
   "cell_type": "code",
   "execution_count": null,
   "metadata": {},
   "outputs": [],
   "source": []
  },
  {
   "cell_type": "markdown",
   "metadata": {},
   "source": [
    "## ICA and k Means and EM"
   ]
  },
  {
   "cell_type": "code",
   "execution_count": null,
   "metadata": {},
   "outputs": [],
   "source": []
  },
  {
   "cell_type": "markdown",
   "metadata": {},
   "source": [
    "## Randomized Projections and k Means and EM"
   ]
  },
  {
   "cell_type": "code",
   "execution_count": null,
   "metadata": {},
   "outputs": [],
   "source": []
  },
  {
   "cell_type": "markdown",
   "metadata": {},
   "source": [
    "## LDA and k Means and EM"
   ]
  },
  {
   "cell_type": "code",
   "execution_count": null,
   "metadata": {},
   "outputs": [],
   "source": []
  }
 ],
 "metadata": {
  "kernelspec": {
   "display_name": "Python 3",
   "language": "python",
   "name": "python3"
  },
  "language_info": {
   "codemirror_mode": {
    "name": "ipython",
    "version": 3
   },
   "file_extension": ".py",
   "mimetype": "text/x-python",
   "name": "python",
   "nbconvert_exporter": "python",
   "pygments_lexer": "ipython3",
   "version": "3.6.3"
  }
 },
 "nbformat": 4,
 "nbformat_minor": 2
}
