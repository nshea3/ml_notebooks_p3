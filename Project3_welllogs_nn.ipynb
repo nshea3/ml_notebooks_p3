{
 "cells": [
  {
   "cell_type": "markdown",
   "metadata": {},
   "source": [
    "# NN from Assignment 1"
   ]
  },
  {
   "cell_type": "code",
   "execution_count": 28,
   "metadata": {},
   "outputs": [],
   "source": [
    "import matplotlib.pyplot as plt\n",
    "import numpy as np\n",
    "import math\n",
    "import pandas as pd\n",
    "import matplotlib.pyplot as plt\n",
    "import sklearn\n",
    "\n",
    "from sklearn.neural_network import MLPClassifier\n",
    "\n",
    "from sklearn.preprocessing import RobustScaler\n",
    "\n",
    "from sklearn.metrics import classification_report\n",
    "\n",
    "from sklearn.model_selection import train_test_split\n",
    "\n",
    "%matplotlib inline\n",
    "\n",
    "plt.style.use('seaborn')\n",
    "\n",
    "import warnings\n",
    "warnings.filterwarnings('ignore')\n",
    "\n",
    "path = \"training_data.csv\"\n",
    "\n",
    "data = pd.read_csv(path)\n",
    "data = data.sample(frac=1)\n",
    "\n",
    "target = 'Facies'\n",
    "features = [feature for feature in list(data.head(0)) if feature not in (\"Well Name\", \"Formation\", \"Facies\")]\n",
    "\n",
    "X = data[features]\n",
    "\n",
    "scaler = RobustScaler()\n",
    "scaler.fit(X)\n",
    "X = scaler.transform(X)\n",
    "\n",
    "\n",
    "y = data[target]\n",
    "\n",
    "X_train, X_test, y_train, y_test = train_test_split(X, y, test_size=0.2)\n",
    "\n",
    "train_sizes = list(range(295,2065,295))\n",
    "\n",
    "assign1_nn = MLPClassifier(activation='relu', alpha=0.01, batch_size='auto', beta_1=0.9,\n",
    "       beta_2=0.999, early_stopping=False, epsilon=1e-08,\n",
    "       hidden_layer_sizes=80, learning_rate='constant',\n",
    "       learning_rate_init=0.001, max_iter=500, momentum=0.9,\n",
    "       nesterovs_momentum=True, power_t=0.5, random_state=1, shuffle=True,\n",
    "       solver='adam', tol=0.0001, validation_fraction=0.1, verbose=False,\n",
    "       warm_start=False)"
   ]
  },
  {
   "cell_type": "markdown",
   "metadata": {},
   "source": [
    "# Training and testing on original data"
   ]
  },
  {
   "cell_type": "code",
   "execution_count": 29,
   "metadata": {},
   "outputs": [
    {
     "name": "stdout",
     "output_type": "stream",
     "text": [
      "[3.09681091]\n",
      "[0.77562489]\n",
      "[0.68742747]\n"
     ]
    }
   ],
   "source": [
    "import sklearn.model_selection\n",
    "\n",
    "assign1_nn.fit(X_train,y_train)\n",
    "\n",
    "gridsearch = sklearn.model_selection.GridSearchCV(estimator = assign1_nn, param_grid = {}, cv=5)\n",
    "gridsearch.fit(X_train, y_train)\n",
    "print(gridsearch.cv_results_['mean_fit_time'])\n",
    "print(gridsearch.cv_results_['mean_train_score'])\n",
    "print(gridsearch.cv_results_['mean_test_score'])\n",
    "\n",
    "def grid_score(est, xtrain, ytrain):\n",
    "    gridsearch = sklearn.model_selection.GridSearchCV(estimator = est, param_grid = {}, cv=5)\n",
    "    gridsearch.fit(xtrain, ytrain)\n",
    "    print(gridsearch.cv_results_['mean_fit_time'])\n",
    "    print(gridsearch.cv_results_['mean_train_score'])\n",
    "    print(gridsearch.cv_results_['mean_test_score'])\n",
    "    \n",
    "#y_pred = assign1_nn.predict(X_test)\n",
    "#print(classification_report(y_test,y_pred))\n",
    "\n",
    "#print(sklearn.metrics.accuracy_score(y_test, y_pred))\n",
    "#print(sklearn.metrics.f1_score(y_test, y_pred, average='macro'))"
   ]
  },
  {
   "cell_type": "markdown",
   "metadata": {},
   "source": [
    "# Training and testing after dimensionality reduction"
   ]
  },
  {
   "cell_type": "markdown",
   "metadata": {},
   "source": [
    "## PCA"
   ]
  },
  {
   "cell_type": "code",
   "execution_count": 31,
   "metadata": {},
   "outputs": [
    {
     "name": "stdout",
     "output_type": "stream",
     "text": [
      "[2.83548021]\n",
      "[0.62630826]\n",
      "[0.58568665]\n"
     ]
    }
   ],
   "source": [
    "from sklearn.decomposition import PCA\n",
    "\n",
    "pca4 = PCA(n_components=4)\n",
    "pca4_transformed = pca4.fit_transform(X_train)\n",
    "pca4_transformed_test = pca4.transform(X_test)\n",
    "\n",
    "assign1_nn.fit(pca4_transformed,y_train)\n",
    "\n",
    "y_pred = assign1_nn.predict(pca4_transformed_test)\n",
    "\n",
    "grid_score(assign1_nn, pca4_transformed, y_train)"
   ]
  },
  {
   "cell_type": "markdown",
   "metadata": {},
   "source": [
    "## ICA"
   ]
  },
  {
   "cell_type": "code",
   "execution_count": 32,
   "metadata": {},
   "outputs": [
    {
     "name": "stdout",
     "output_type": "stream",
     "text": [
      "[2.36480198]\n",
      "[0.48152975]\n",
      "[0.4754352]\n"
     ]
    }
   ],
   "source": [
    "from sklearn.decomposition import FastICA\n",
    "\n",
    "ica3 = FastICA(n_components=3)\n",
    "ica3_transformed = ica3.fit_transform(X_train)\n",
    "ica3_transformed_test = ica3.transform(X_test)\n",
    "\n",
    "assign1_nn.fit(ica3_transformed,y_train)\n",
    "\n",
    "y_pred = assign1_nn.predict(ica3_transformed_test)\n",
    "\n",
    "grid_score(assign1_nn, ica3_transformed, y_train)"
   ]
  },
  {
   "cell_type": "markdown",
   "metadata": {},
   "source": [
    "## Randomized Projections"
   ]
  },
  {
   "cell_type": "code",
   "execution_count": 33,
   "metadata": {},
   "outputs": [
    {
     "name": "stdout",
     "output_type": "stream",
     "text": [
      "[2.73694634]\n",
      "[0.66808642]\n",
      "[0.6073501]\n"
     ]
    }
   ],
   "source": [
    "#Reconstruction error (try this for LDA as well?)\n",
    "\n",
    "\"\"\"\n",
    "transformer = random_projection.GaussianRandomProjection(n_components = 20, eps =.2)\n",
    "\n",
    "X_reduced = transformer.fit_transform(X)\n",
    "\n",
    "randMat = transformer.components_\n",
    "\n",
    "X_Proj = X_reduced.dot(randMat)\n",
    "\"\"\"\n",
    "\n",
    "from sklearn.random_projection import GaussianRandomProjection\n",
    "\n",
    "grp = GaussianRandomProjection(n_components = 5)\n",
    "\n",
    "grp_transformed = grp.fit_transform(X_train)\n",
    "\n",
    "assign1_nn.fit(grp_transformed,y_train)\n",
    "\n",
    "grp_transformed_test = grp.transform(X_test)\n",
    "\n",
    "y_pred = assign1_nn.predict(grp_transformed_test)\n",
    "\n",
    "\n",
    "grid_score(assign1_nn, grp_transformed, y_train)"
   ]
  },
  {
   "cell_type": "markdown",
   "metadata": {},
   "source": [
    "## LDA"
   ]
  },
  {
   "cell_type": "code",
   "execution_count": 65,
   "metadata": {},
   "outputs": [
    {
     "name": "stdout",
     "output_type": "stream",
     "text": [
      "[1.98666534]\n",
      "[0.41895675]\n",
      "[0.4131528]\n",
      "              precision    recall  f1-score   support\n",
      "\n",
      "           1       0.00      0.00      0.00        49\n",
      "           2       0.43      1.00      0.60       134\n",
      "           3       1.00      0.03      0.06       132\n",
      "           4       0.37      0.33      0.35        43\n",
      "           5       0.00      0.00      0.00        56\n",
      "           6       0.34      0.64      0.44        92\n",
      "           7       0.00      0.00      0.00        20\n",
      "           8       0.46      0.52      0.49        91\n",
      "           9       0.56      0.30      0.39        30\n",
      "\n",
      "   micro avg       0.41      0.41      0.41       647\n",
      "   macro avg       0.35      0.31      0.26       647\n",
      "weighted avg       0.46      0.41      0.31       647\n",
      "\n",
      "0.4126738794435858\n",
      "0.2584108831375001\n"
     ]
    }
   ],
   "source": [
    "from sklearn.discriminant_analysis import LinearDiscriminantAnalysis\n",
    "\n",
    "lda = LinearDiscriminantAnalysis(n_components=1)\n",
    "\n",
    "lda_transformed = lda.fit_transform(X_train, y_train)\n",
    "\n",
    "lda_transformed_test = lda.transform(X_test)\n",
    "\n",
    "assign1_nn.fit(lda_transformed,y_train)\n",
    "\n",
    "y_pred = assign1_nn.predict(lda_transformed_test)\n",
    "\n",
    "grid_score(assign1_nn, lda_transformed, y_train)\n",
    "\n",
    "print(classification_report(y_test,y_pred))\n",
    "\n",
    "print(sklearn.metrics.accuracy_score(y_test, y_pred))\n",
    "print(sklearn.metrics.f1_score(y_test, y_pred, average='macro'))"
   ]
  },
  {
   "cell_type": "markdown",
   "metadata": {},
   "source": [
    "# Training and testing after dimensionality reduction and clustering"
   ]
  },
  {
   "cell_type": "markdown",
   "metadata": {},
   "source": [
    "## PCA and k Means and EM"
   ]
  },
  {
   "cell_type": "code",
   "execution_count": 50,
   "metadata": {},
   "outputs": [
    {
     "name": "stdout",
     "output_type": "stream",
     "text": [
      "[[ 1.82076744 -0.85054581 -0.7649277  ...  0.          0.\n",
      "   1.        ]\n",
      " [-1.94590299  0.41405247 -0.04450519 ...  0.          1.\n",
      "   0.        ]\n",
      " [-1.64315243  1.07188413 -0.72170894 ...  0.          1.\n",
      "   0.        ]\n",
      " ...\n",
      " [-1.62135185  0.12356456  0.52133125 ...  0.          1.\n",
      "   0.        ]\n",
      " [ 0.24442655  0.31244813 -0.67141087 ...  0.          0.\n",
      "   1.        ]\n",
      " [ 0.21204043 -0.02584873  0.53381069 ...  0.          0.\n",
      "   1.        ]]\n",
      "(2585, 8)\n",
      "[2.95290828]\n",
      "[0.62930142]\n",
      "[0.57833656]\n",
      "              precision    recall  f1-score   support\n",
      "\n",
      "           1       0.00      0.00      0.00        49\n",
      "           2       0.43      1.00      0.60       134\n",
      "           3       1.00      0.03      0.06       132\n",
      "           4       0.37      0.33      0.35        43\n",
      "           5       0.00      0.00      0.00        56\n",
      "           6       0.34      0.64      0.44        92\n",
      "           7       0.00      0.00      0.00        20\n",
      "           8       0.46      0.52      0.49        91\n",
      "           9       0.56      0.30      0.39        30\n",
      "\n",
      "   micro avg       0.41      0.41      0.41       647\n",
      "   macro avg       0.35      0.31      0.26       647\n",
      "weighted avg       0.46      0.41      0.31       647\n",
      "\n",
      "0.4126738794435858\n",
      "0.2584108831375001\n"
     ]
    },
    {
     "data": {
      "image/png": "[encoded data removed]",
      "text/plain": [
       "<matplotlib.figure.Figure at 0x156ac17f908>"
      ]
     },
     "metadata": {},
     "output_type": "display_data"
    }
   ],
   "source": [
    "from sklearn.cluster import KMeans\n",
    "from sklearn.metrics import silhouette_samples, silhouette_score\n",
    "\n",
    "pca4 = PCA(n_components=4)\n",
    "pca4_transformed = pca4.fit_transform(X_train)\n",
    "\n",
    "plt.plot(range(2,10), silhouette_scores)\n",
    "\n",
    "plt.xlabel('Number of Clusters')\n",
    "plt.ylabel('Silhouette Score')\n",
    "plt.title('Silhouette Score vs Number of Clusters')\n",
    "\n",
    "\n",
    "#Using n_clusters = 4 from previous experimentation\n",
    "kmeans = KMeans(n_clusters=4, random_state=0, n_init = 10)\n",
    "cluster_labels = kmeans.fit_predict(pca4_transformed)\n",
    "\n",
    "onehot_seg = np.eye(4)[cluster_labels]\n",
    "\n",
    "pca4_transformed\n",
    "\n",
    "pcakmeans_dm_clust = np.concatenate((pca4_transformed, onehot_seg), axis=1)\n",
    "\n",
    "print(pcakmeans_dm_clust)\n",
    "print(pcakmeans_dm_clust.shape)\n",
    "\n",
    "\n",
    "grid_score(assign1_nn, pcakmeans_dm_clust, y_train)\n",
    "\n",
    "print(classification_report(y_test,y_pred))\n",
    "\n",
    "print(sklearn.metrics.accuracy_score(y_test, y_pred))\n",
    "print(sklearn.metrics.f1_score(y_test, y_pred, average='macro'))"
   ]
  },
  {
   "cell_type": "code",
   "execution_count": 64,
   "metadata": {},
   "outputs": [
    {
     "name": "stdout",
     "output_type": "stream",
     "text": [
      "GridScore:\n",
      "[2.98895445]\n",
      "[0.64883728]\n",
      "[0.59110251]\n",
      "====\n",
      "              precision    recall  f1-score   support\n",
      "\n",
      "           1       0.00      0.00      0.00        49\n",
      "           2       0.43      1.00      0.60       134\n",
      "           3       1.00      0.03      0.06       132\n",
      "           4       0.37      0.33      0.35        43\n",
      "           5       0.00      0.00      0.00        56\n",
      "           6       0.34      0.64      0.44        92\n",
      "           7       0.00      0.00      0.00        20\n",
      "           8       0.46      0.52      0.49        91\n",
      "           9       0.56      0.30      0.39        30\n",
      "\n",
      "   micro avg       0.41      0.41      0.41       647\n",
      "   macro avg       0.35      0.31      0.26       647\n",
      "weighted avg       0.46      0.41      0.31       647\n",
      "\n",
      "0.4126738794435858\n",
      "0.2584108831375001\n"
     ]
    }
   ],
   "source": [
    "from sklearn.mixture import GaussianMixture\n",
    "\n",
    "gm = GaussianMixture(n_components=5, random_state=0, n_init = 10)\n",
    "\n",
    "cluster_labels = gm.fit_predict(pca4_transformed)\n",
    "\n",
    "onehot_seg = np.eye(5)[cluster_labels]\n",
    "\n",
    "pcakmeans_dm_clust = np.concatenate((pca4_transformed, onehot_seg), axis=1)\n",
    "\n",
    "print(\"GridScore:\")\n",
    "grid_score(assign1_nn, pcakmeans_dm_clust, y_train)\n",
    "print(\"====\")\n",
    "print(classification_report(y_test,y_pred))\n",
    "\n",
    "print(sklearn.metrics.accuracy_score(y_test, y_pred))\n",
    "print(sklearn.metrics.f1_score(y_test, y_pred, average='macro'))"
   ]
  },
  {
   "cell_type": "markdown",
   "metadata": {},
   "source": [
    "## ICA and k Means and EM"
   ]
  },
  {
   "cell_type": "code",
   "execution_count": 52,
   "metadata": {},
   "outputs": [
    {
     "name": "stdout",
     "output_type": "stream",
     "text": [
      "[2.52795582]\n",
      "[0.4812376]\n",
      "[0.47659574]\n",
      "[2.55929089]\n",
      "[0.47156557]\n",
      "[0.46692456]\n",
      "              precision    recall  f1-score   support\n",
      "\n",
      "           1       0.51      0.41      0.45        49\n",
      "           2       0.43      0.74      0.54       134\n",
      "           3       0.63      0.38      0.47       132\n",
      "           4       0.50      0.28      0.36        43\n",
      "           5       0.00      0.00      0.00        56\n",
      "           6       0.40      0.64      0.49        92\n",
      "           7       0.00      0.00      0.00        20\n",
      "           8       0.43      0.58      0.49        91\n",
      "           9       0.00      0.00      0.00        30\n",
      "\n",
      "   micro avg       0.45      0.45      0.45       647\n",
      "   macro avg       0.32      0.34      0.31       647\n",
      "weighted avg       0.41      0.45      0.41       647\n",
      "\n",
      "0.4528593508500773\n",
      "0.3127131967557945\n"
     ]
    }
   ],
   "source": [
    "ica3 = FastICA(n_components=3)\n",
    "ica3_transformed = ica3.fit_transform(X_train)\n",
    "ica3_transformed_test = ica3.transform(X_test)\n",
    "\n",
    "assign1_nn.fit(ica3_transformed,y_train)\n",
    "\n",
    "y_pred = assign1_nn.predict(ica3_transformed_test)\n",
    "\n",
    "grid_score(assign1_nn, ica3_transformed, y_train)\n",
    "\n",
    "kmeans = KMeans(n_clusters=4, random_state=0, n_init = 10)\n",
    "cluster_labels = kmeans.fit_predict(ica3_transformed)\n",
    "\n",
    "onehot_seg = np.eye(4)[cluster_labels]\n",
    "\n",
    "pcakmeans_dm_clust = np.concatenate((ica3_transformed, onehot_seg), axis=1)\n",
    "\n",
    "grid_score(assign1_nn, pcakmeans_dm_clust, y_train)\n",
    "\n",
    "print(classification_report(y_test,y_pred))\n",
    "\n",
    "print(sklearn.metrics.accuracy_score(y_test, y_pred))\n",
    "print(sklearn.metrics.f1_score(y_test, y_pred, average='macro'))\n",
    "\n",
    "#Using k means "
   ]
  },
  {
   "cell_type": "code",
   "execution_count": 62,
   "metadata": {},
   "outputs": [
    {
     "name": "stdout",
     "output_type": "stream",
     "text": [
      "GridScore:\n",
      "[2.60421147]\n",
      "[0.48172317]\n",
      "[0.47466151]\n",
      "====\n",
      "              precision    recall  f1-score   support\n",
      "\n",
      "           1       0.00      0.00      0.00        49\n",
      "           2       0.43      1.00      0.60       134\n",
      "           3       1.00      0.03      0.06       132\n",
      "           4       0.37      0.33      0.35        43\n",
      "           5       0.00      0.00      0.00        56\n",
      "           6       0.34      0.64      0.44        92\n",
      "           7       0.00      0.00      0.00        20\n",
      "           8       0.46      0.52      0.49        91\n",
      "           9       0.56      0.30      0.39        30\n",
      "\n",
      "   micro avg       0.41      0.41      0.41       647\n",
      "   macro avg       0.35      0.31      0.26       647\n",
      "weighted avg       0.46      0.41      0.31       647\n",
      "\n",
      "0.4126738794435858\n",
      "0.2584108831375001\n"
     ]
    }
   ],
   "source": [
    "from sklearn.mixture import GaussianMixture\n",
    "\n",
    "gm = GaussianMixture(n_components=5, random_state=0, n_init = 10)\n",
    "\n",
    "cluster_labels = gm.fit_predict(ica3_transformed)\n",
    "\n",
    "onehot_seg = np.eye(5)[cluster_labels]\n",
    "\n",
    "pcakmeans_dm_clust = np.concatenate((ica3_transformed, onehot_seg), axis=1)\n",
    "\n",
    "print(\"GridScore:\")\n",
    "grid_score(assign1_nn, pcakmeans_dm_clust, y_train)\n",
    "print(\"====\")\n",
    "print(classification_report(y_test,y_pred))\n",
    "\n",
    "print(sklearn.metrics.accuracy_score(y_test, y_pred))\n",
    "print(sklearn.metrics.f1_score(y_test, y_pred, average='macro'))"
   ]
  },
  {
   "cell_type": "markdown",
   "metadata": {},
   "source": [
    "## Randomized Projections and k Means and EM"
   ]
  },
  {
   "cell_type": "code",
   "execution_count": 53,
   "metadata": {},
   "outputs": [
    {
     "name": "stdout",
     "output_type": "stream",
     "text": [
      "[2.80679388]\n",
      "[0.69545678]\n",
      "[0.62940039]\n",
      "              precision    recall  f1-score   support\n",
      "\n",
      "           1       0.51      0.41      0.45        49\n",
      "           2       0.43      0.74      0.54       134\n",
      "           3       0.63      0.38      0.47       132\n",
      "           4       0.50      0.28      0.36        43\n",
      "           5       0.00      0.00      0.00        56\n",
      "           6       0.40      0.64      0.49        92\n",
      "           7       0.00      0.00      0.00        20\n",
      "           8       0.43      0.58      0.49        91\n",
      "           9       0.00      0.00      0.00        30\n",
      "\n",
      "   micro avg       0.45      0.45      0.45       647\n",
      "   macro avg       0.32      0.34      0.31       647\n",
      "weighted avg       0.41      0.45      0.41       647\n",
      "\n",
      "0.4528593508500773\n",
      "0.3127131967557945\n"
     ]
    }
   ],
   "source": [
    "from sklearn.random_projection import GaussianRandomProjection\n",
    "\n",
    "grp = GaussianRandomProjection(n_components = 5)\n",
    "\n",
    "grp_transformed = grp.fit_transform(X_train)\n",
    "\n",
    "assign1_nn.fit(grp_transformed,y_train)\n",
    "\n",
    "grp_transformed_test = grp.transform(X_test)\n",
    "\n",
    "kmeans = KMeans(n_clusters=4, random_state=0, n_init = 10)\n",
    "cluster_labels = kmeans.fit_predict(grp_transformed)\n",
    "\n",
    "onehot_seg = np.eye(4)[cluster_labels]\n",
    "\n",
    "pcakmeans_dm_clust = np.concatenate((grp_transformed, onehot_seg), axis=1)\n",
    "\n",
    "grid_score(assign1_nn, pcakmeans_dm_clust, y_train)\n",
    "\n",
    "print(classification_report(y_test,y_pred))\n",
    "\n",
    "print(sklearn.metrics.accuracy_score(y_test, y_pred))\n",
    "print(sklearn.metrics.f1_score(y_test, y_pred, average='macro'))"
   ]
  },
  {
   "cell_type": "code",
   "execution_count": 63,
   "metadata": {},
   "outputs": [
    {
     "name": "stdout",
     "output_type": "stream",
     "text": [
      "GridScore:\n",
      "[2.87683754]\n",
      "[0.69671651]\n",
      "[0.62669246]\n",
      "====\n",
      "              precision    recall  f1-score   support\n",
      "\n",
      "           1       0.00      0.00      0.00        49\n",
      "           2       0.43      1.00      0.60       134\n",
      "           3       1.00      0.03      0.06       132\n",
      "           4       0.37      0.33      0.35        43\n",
      "           5       0.00      0.00      0.00        56\n",
      "           6       0.34      0.64      0.44        92\n",
      "           7       0.00      0.00      0.00        20\n",
      "           8       0.46      0.52      0.49        91\n",
      "           9       0.56      0.30      0.39        30\n",
      "\n",
      "   micro avg       0.41      0.41      0.41       647\n",
      "   macro avg       0.35      0.31      0.26       647\n",
      "weighted avg       0.46      0.41      0.31       647\n",
      "\n",
      "0.4126738794435858\n",
      "0.2584108831375001\n"
     ]
    }
   ],
   "source": [
    "from sklearn.mixture import GaussianMixture\n",
    "\n",
    "gm = GaussianMixture(n_components=5, random_state=0, n_init = 10)\n",
    "\n",
    "cluster_labels = gm.fit_predict(grp_transformed)\n",
    "\n",
    "onehot_seg = np.eye(5)[cluster_labels]\n",
    "\n",
    "pcakmeans_dm_clust = np.concatenate((grp_transformed, onehot_seg), axis=1)\n",
    "\n",
    "print(\"GridScore:\")\n",
    "grid_score(assign1_nn, pcakmeans_dm_clust, y_train)\n",
    "print(\"====\")\n",
    "print(classification_report(y_test,y_pred))\n",
    "\n",
    "print(sklearn.metrics.accuracy_score(y_test, y_pred))\n",
    "print(sklearn.metrics.f1_score(y_test, y_pred, average='macro'))"
   ]
  },
  {
   "cell_type": "markdown",
   "metadata": {},
   "source": [
    "## LDA and k Means and EM"
   ]
  },
  {
   "cell_type": "code",
   "execution_count": 66,
   "metadata": {},
   "outputs": [
    {
     "name": "stdout",
     "output_type": "stream",
     "text": [
      "GridScore:\n",
      "[0.69019094]\n",
      "[0.40445001]\n",
      "[0.40348162]\n",
      "====\n",
      "              precision    recall  f1-score   support\n",
      "\n",
      "           1       0.00      0.00      0.00        49\n",
      "           2       0.43      1.00      0.60       134\n",
      "           3       1.00      0.03      0.06       132\n",
      "           4       0.37      0.33      0.35        43\n",
      "           5       0.00      0.00      0.00        56\n",
      "           6       0.34      0.64      0.44        92\n",
      "           7       0.00      0.00      0.00        20\n",
      "           8       0.46      0.52      0.49        91\n",
      "           9       0.56      0.30      0.39        30\n",
      "\n",
      "   micro avg       0.41      0.41      0.41       647\n",
      "   macro avg       0.35      0.31      0.26       647\n",
      "weighted avg       0.46      0.41      0.31       647\n",
      "\n",
      "0.4126738794435858\n",
      "0.2584108831375001\n"
     ]
    }
   ],
   "source": [
    "kmeans = KMeans(n_clusters=4, random_state=0, n_init = 10)\n",
    "cluster_labels = kmeans.fit_predict(lda_transformed)\n",
    "\n",
    "onehot_seg = np.eye(4)[cluster_labels]\n",
    "\n",
    "pcakmeans_dm_clust = np.concatenate((lda_transformed, onehot_seg), axis=1)\n",
    "\n",
    "print(\"GridScore:\")\n",
    "grid_score(assign1_nn, pcakmeans_dm_clust, y_train)\n",
    "print(\"====\")\n",
    "print(classification_report(y_test,y_pred))\n",
    "\n",
    "print(sklearn.metrics.accuracy_score(y_test, y_pred))\n",
    "print(sklearn.metrics.f1_score(y_test, y_pred, average='macro'))"
   ]
  },
  {
   "cell_type": "code",
   "execution_count": 68,
   "metadata": {},
   "outputs": [
    {
     "name": "stdout",
     "output_type": "stream",
     "text": [
      "GridScore:\n",
      "[0.49178419]\n",
      "[0.40503295]\n",
      "[0.39497099]\n",
      "====\n",
      "              precision    recall  f1-score   support\n",
      "\n",
      "           1       0.00      0.00      0.00        49\n",
      "           2       0.43      1.00      0.60       134\n",
      "           3       1.00      0.03      0.06       132\n",
      "           4       0.37      0.33      0.35        43\n",
      "           5       0.00      0.00      0.00        56\n",
      "           6       0.34      0.64      0.44        92\n",
      "           7       0.00      0.00      0.00        20\n",
      "           8       0.46      0.52      0.49        91\n",
      "           9       0.56      0.30      0.39        30\n",
      "\n",
      "   micro avg       0.41      0.41      0.41       647\n",
      "   macro avg       0.35      0.31      0.26       647\n",
      "weighted avg       0.46      0.41      0.31       647\n",
      "\n",
      "0.4126738794435858\n",
      "0.2584108831375001\n"
     ]
    }
   ],
   "source": [
    "from sklearn.mixture import GaussianMixture\n",
    "\n",
    "gm = GaussianMixture(n_components=5, random_state=0, n_init = 10)\n",
    "\n",
    "cluster_labels = gm.fit_predict(lda_transformed)\n",
    "\n",
    "onehot_seg = np.eye(5)[cluster_labels]\n",
    "\n",
    "pcakmeans_dm_clust = np.concatenate((lda_transformed, onehot_seg), axis=1)\n",
    "\n",
    "print(\"GridScore:\")\n",
    "grid_score(assign1_nn, pcakmeans_dm_clust, y_train)\n",
    "print(\"====\")\n",
    "print(classification_report(y_test,y_pred))\n",
    "\n",
    "print(sklearn.metrics.accuracy_score(y_test, y_pred))\n",
    "print(sklearn.metrics.f1_score(y_test, y_pred, average='macro'))"
   ]
  }
 ],
 "metadata": {
  "kernelspec": {
   "display_name": "Python 3",
   "language": "python",
   "name": "python3"
  },
  "language_info": {
   "codemirror_mode": {
    "name": "ipython",
    "version": 3
   },
   "file_extension": ".py",
   "mimetype": "text/x-python",
   "name": "python",
   "nbconvert_exporter": "python",
   "pygments_lexer": "ipython3",
   "version": "3.6.3"
  }
 },
 "nbformat": 4,
 "nbformat_minor": 2
}
